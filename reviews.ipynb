{
 "metadata": {
  "language_info": {
   "codemirror_mode": {
    "name": "ipython",
    "version": 3
   },
   "file_extension": ".py",
   "mimetype": "text/x-python",
   "name": "python",
   "nbconvert_exporter": "python",
   "pygments_lexer": "ipython3",
   "version": "3.7.7-final"
  },
  "orig_nbformat": 2,
  "kernelspec": {
   "name": "Python 3.7.7 64-bit ('anaconda3': virtualenv)",
   "display_name": "Python 3.7.7 64-bit ('anaconda3': virtualenv)",
   "metadata": {
    "interpreter": {
     "hash": "bcef7d223547f75a91b3c920d7ce452996fa1e3eb976000a19586f28da8111dc"
    }
   }
  }
 },
 "nbformat": 4,
 "nbformat_minor": 2,
 "cells": [
  {
   "cell_type": "code",
   "execution_count": 2,
   "metadata": {},
   "outputs": [
    {
     "output_type": "stream",
     "name": "stdout",
     "text": [
      "<class 'pandas.core.frame.DataFrame'>\nInt64Index: 140348 entries, 0 to 140454\nData columns (total 6 columns):\n #   Column         Non-Null Count   Dtype         \n---  ------         --------------   -----         \n 0   listing_id     140348 non-null  int64         \n 1   id             140348 non-null  int64         \n 2   date           140348 non-null  datetime64[ns]\n 3   reviewer_id    140348 non-null  int64         \n 4   reviewer_name  140348 non-null  object        \n 5   comments       140348 non-null  object        \ndtypes: datetime64[ns](1), int64(3), object(2)\nmemory usage: 7.5+ MB\n"
     ]
    }
   ],
   "source": [
    "import pandas as pd\n",
    "df = pd.read_csv('data/reviews.csv')\n",
    "df.date = pd.to_datetime(df.date, format='%Y-%m-%d')\n",
    "df.dropna(inplace=True)\n",
    "df.info()"
   ]
  },
  {
   "cell_type": "code",
   "execution_count": 15,
   "metadata": {},
   "outputs": [],
   "source": [
    "import string\n",
    "from nltk.corpus import stopwords as sw\n",
    "from nltk.corpus import wordnet as wn\n",
    "from nltk import wordpunct_tokenize\n",
    "from nltk import WordNetLemmatizer\n",
    "from nltk import sent_tokenize\n",
    "from nltk import pos_tag\n",
    "\n",
    "# initialise WordNet lemmatizer and punctuation filter\n",
    "lemmatizer = WordNetLemmatizer()\n",
    "punct = set(string.punctuation)\n",
    "\n",
    "# join provided stopwords with the default NLTK English stopwords\n",
    "stopwords = set(sw.words('english')).union(set(sw.words('norwegian'))).union(set(sw.words('french')))\n",
    "\n",
    "def lemmatize(token, tag):\n",
    "    tag = {\n",
    "        'N': wn.NOUN,\n",
    "        'V': wn.VERB,\n",
    "        'R': wn.ADV,\n",
    "        'J': wn.ADJ\n",
    "    }.get(tag[0], wn.NOUN)\n",
    "\n",
    "    return lemmatizer.lemmatize(token, tag)\n",
    "\n",
    "def cab_tokenizer(document):\n",
    "    # initialize token list\n",
    "    tokens = []\n",
    "    \n",
    "    # split the document into sentences\n",
    "    for sent in sent_tokenize(document):\n",
    "        # split the document into tokens and then create part of speech tag for each token\n",
    "        for token, tag in pos_tag(wordpunct_tokenize(sent)):\n",
    "            # preprocess and remove unnecessary characters\n",
    "            token = token.lower()\n",
    "            token = token.strip()\n",
    "            token = token.strip('_')\n",
    "            token = token.strip('*')\n",
    "\n",
    "            # If stopword, ignore token and continue\n",
    "            if token in stopwords:\n",
    "                continue\n",
    "\n",
    "            # If punctuation, ignore token and continue\n",
    "            if all(char in punct for char in token):\n",
    "                continue\n",
    "\n",
    "            # Lemmatize the token and add back to the tokens list\n",
    "            lemma = lemmatize(token, tag)\n",
    "            tokens.append(lemma)\n",
    "    \n",
    "    return tokens"
   ]
  },
  {
   "cell_type": "code",
   "execution_count": 16,
   "metadata": {},
   "outputs": [
    {
     "output_type": "stream",
     "name": "stdout",
     "text": [
      "233.07958788155156\n"
     ]
    }
   ],
   "source": [
    "# average length of comment\n",
    "print(df['comments'].apply(lambda x: len(x)).mean())"
   ]
  },
  {
   "cell_type": "code",
   "execution_count": 17,
   "metadata": {},
   "outputs": [],
   "source": [
    "df_temp = df[:1000]"
   ]
  },
  {
   "cell_type": "code",
   "execution_count": 30,
   "metadata": {
    "tags": [
     "outputPrepend"
    ]
   },
   "outputs": [
    {
     "output_type": "stream",
     "name": "stdout",
     "text": [
      " accommodation', 'way allow', 'way around', 'way back', 'way could', 'way described', 'way ensure', 'way friendly', 'way get', 'way good', 'way help', 'way host', 'way inform', 'way know', 'way location', 'way make', 'way meet', 'way need', 'way overall', 'way possible', 'way property', 'way save', 'way sneak', 'way stay', 'way travel', 'wc', 'wc bedroom', 'wealth', 'wealth information', 'wealth knowledge', 'wealth suggestion', 'wear', 'wear comfortable', 'weather', 'weather enjoy', 'weather nice', 'weather outside', 'weather rest', 'weather take', 'weather warm', 'weather week', 'web', 'web site', 'website', 'website hide', 'wee', 'wee hour', 'weedy', 'weedy path', 'week', 'week absolutely', 'week case', 'week end', 'week gunn', 'week hospitable', 'week melissa', 'week place', 'week rain', 'week room', 'week sad', 'week sleep', 'week work', 'week working', 'weekend', 'weekend away', 'weekend book', 'weekend city', 'weekend getaway', 'weekend glenn', 'weekend issue', 'weekend katrine', 'weekend make', 'weekend oslo', 'weekend three', 'weekend visit', 'weeklong', 'weeklong stay', 'weekly', 'weekly pas', 'weg', 'weg von', 'wehen', 'wehen eat', 'weiter', 'weiter empfehlen', 'weitere', 'weitere gelegenheit', 'weitere stadtteile', 'weiterempfehlen', 'weiterempfehlen danke', 'weiterempfehlen für', 'weiterempfehlen und', 'weiterempfehlen vielen', 'weiß', 'weiß gar', 'weiß ich', 'welcome', 'welcome 100000', 'welcome actually', 'welcome also', 'welcome apartement', 'welcome aroma', 'welcome arrive', 'welcome beginning', 'welcome best', 'welcome bright', 'welcome bubbly', 'welcome building', 'welcome cecilie', 'welcome charm', 'welcome comfortable', 'welcome communicate', 'welcome definitely', 'welcome easy', 'welcome enjoyable', 'welcome even', 'welcome evening', 'welcome everything', 'welcome excellent', 'welcome family', 'welcome fast', 'welcome friendly', 'welcome give', 'welcome gracious', 'welcome great', 'welcome guy', 'welcome hand', 'welcome help', 'welcome helpful', 'welcome host', 'welcome house', 'welcome immediately', 'welcome information', 'welcome instant', 'welcome instruction', 'welcome kare', 'welcome kate', 'welcome kåre', 'welcome long', 'welcome look', 'welcome lovely', 'welcome make', 'welcome many', 'welcome melissa', 'welcome moment', 'welcome nice', 'welcome norway', 'welcome norwegian', 'welcome note', 'welcome offer', 'welcome package', 'welcome prepare', 'welcome prepared', 'welcome share', 'welcome short', 'welcome sweetie', 'welcome thank', 'welcome tobias', 'welcome u', 'welcome wonderful', 'welcomed', 'welcomed home', 'welcomed thoroughly', 'welcoming', 'welcoming apartment', 'welcoming appartement', 'welcoming attentive', 'welcoming beat', 'welcoming bus', 'welcoming check', 'welcoming easy', 'welcoming elegant', 'welcoming enjoy', 'welcoming felt', 'welcoming flat', 'welcoming friendly', 'welcoming full', 'welcoming gift', 'welcoming give', 'welcoming good', 'welcoming great', 'welcoming helpful', 'welcoming home', 'welcoming host', 'welcoming kind', 'welcoming let', 'welcoming make', 'welcoming nice', 'welcoming nothing', 'welcoming organize', 'welcoming plus', 'welcoming provide', 'welcoming really', 'welcoming responsive', 'welcoming terrific', 'welcoming thoughtful', 'welcoming touch', 'welcoming warm', 'well', 'well 2', 'well access', 'well advance', 'well apartment', 'well appoint', 'well aranged', 'well aspect', 'well average', 'well awesome', 'well beautiful', 'well bedroom', 'well behave', 'well bente', 'well beyond', 'well big', 'well book', 'well bus', 'well caffeinated', 'well champagne', 'well check', 'well comfortable', 'well comfortably', 'well communication', 'well conected', 'well connect', 'well contact', 'well could', 'well decorared', 'well decorate', 'well delicious', 'well easy', 'well educate', 'well equip', 'well equiped', 'well everything', 'well facilitate', 'well flat', 'well fun', 'well furnish', 'well get', 'well hidden', 'well host', 'well hotel', 'well information', 'well intentioned', 'well interaction', 'well interested', 'well invest', 'well isolated', 'well keep', 'well know', 'well leave', 'well locate', 'well location', 'well maintain', 'well make', 'well melissa', 'well minute', 'well near', 'well one', 'well organise', 'well organize', 'well perfect', 'well pic', 'well picture', 'well place', 'well pleasure', 'well prepare', 'well present', 'well provide', 'well ready', 'well really', 'well recommend', 'well recommendation', 'well restaurant', 'well reveived', 'well room', 'well serviced', 'well short', 'well situate', 'well snack', 'well stock', 'well suit', 'well take', 'well thank', 'well thought', 'well travel', 'well two', 'well u', 'well verse', 'well visit', 'well walk', 'well wash', 'well waterfront', 'well worry', 'well worth', 'well would', 'wendy', 'wendy helpful', 'wenig', 'wenig platz', 'wenigen', 'wenigen minuten', 'wenn', 'wenn einem', 'wenn geschehen', 'wenn really', 'werden', 'werden kann', 'wet', 'wet go', 'whatever', 'whatever breakfast', 'whatever need', 'whatever want', 'whenever', 'whenever ask', 'whenever need', 'whenever problem', 'whenever visit', 'whether', 'whether ice', 'whether need', 'whether one', 'whilst', 'whilst also', 'whilst trust', 'white', 'white floor', 'white wine', 'whole', 'whole apartment', 'whole appartement', 'whole breakfast', 'whole day', 'whole downstairs', 'whole experience', 'whole floor', 'whole holiday', 'whole month', 'whole night', 'whole organisation', 'whole positive', 'whole process', 'whole stay', 'whole time', 'whole trip', 'wi', 'wi fi', 'wichtig', 'wichtig ist', 'wide', 'wide clean', 'wide comfortable', 'wie', 'wie auch', 'wie beschrieben', 'wie die', 'wie eig', 'wie einen', 'wie im', 'wie zuhause', 'wieder', 'wieder aufgenommen', 'wieder bei', 'wieder buchen', 'wieder kamen', 'wieder kommen', 'wieder nutzen', 'wieder thanks', 'wieder und', 'wieder wählen', 'wiederholung', 'wiederholung vielen', 'wiederkommen', 'wiederkommen alles', 'wiew', 'wiew balcony', 'wife', 'wife 2', 'wife enjoy', 'wife lovely', 'wife spend', 'wife would', 'wifi', 'wifi code', 'wifi decent', 'wifi figure', 'wifi tv', 'wifi work', 'wij', 'wij kwamen', 'willing', 'willing engage', 'willing give', 'willing help', 'willing provide', 'willing work', 'willingness', 'willingness open', 'willkommen', 'willkommen heissen', 'willkommen und', 'wind', 'wind eat', 'window', 'window balcony', 'window cecilie', 'window even', 'window experience', 'window light', 'window nice', 'window open', 'window read', 'window shade', 'window traffic', 'window walk', 'windows', 'windows room', 'wine', 'wine choose', 'wine get', 'wine highly', 'wine hospitality', 'wine nut', 'wine ready', 'wine snack', 'wine speaker', 'winter', 'winter break', 'winter comment', 'winter deliscious', 'winter equipment', 'winter everything', 'winter least', 'winter rent', 'winter viebeke', 'wir', 'wir beim', 'wir da', 'wir danken', 'wir durften', 'wir einige', 'wir früher', 'wir für', 'wir haben', 'wir hatten', 'wir konnten', 'wir land', 'wir möchten', 'wir nur', 'wir oslo', 'wir seeeehr', 'wir sind', 'wir un', 'wir uns', 'wir vergessen', 'wir waren', 'wir wirklich', 'wir woche', 'wir wurden', 'wir würden', 'wird', 'wird aufenthalt', 'wireless', 'wireless broadband', 'wireless work', 'wirklich', 'wirklich alles', 'wirklich nur', 'wirklich perfekt', 'wirklich schick', 'wirklich schön', 'wirklich tolle', 'wirklich toller', 'wirklich vorgefunden', 'wisdom', 'wisdom great', 'wise', 'wise great', 'wish', 'wish additional', 'wish arrive', 'wish best', 'wish come', 'wish could', 'wish enjoy', 'wish henrik', 'wish opportunity', 'wish oslofjord', 'wish plan', 'wish regard', 'wish reside', 'wish self', 'wish spend', 'wish time', 'wish visit', 'wish wonderful', 'wishing', 'wishing spend', 'within', 'within 1', 'within 10', 'within 15', 'within 5', 'within block', 'within minute', 'within oslo', 'within short', 'within two', 'within walk', 'within walkable', 'without', 'without clutter', 'without concern', 'without doubt', 'without ever', 'without fear', 'without forget', 'without hesitation', 'without lift', 'without problem', 'without pushy', 'without sterile', 'without trip', 'withwhatweepe', 'withwhatweepe red', 'witty', 'witty love', 'witty well', 'wlan', 'wlan war', 'wo', 'wo grosszügig', 'woche', 'woche jotunheimen', 'woche unseres', 'wohl', 'wohl bei', 'wohl gefühlt', 'wohl zu', 'wohlfühlcharakter', 'wohlfühlcharakter genießt', 'wohnraum', 'wohnraum uneingeschränkt', 'wohnumgebung', 'wohnumgebung ist', 'wohnung', 'wohnung alles', 'wohnung bequeme', 'wohnung das', 'wohnung frei', 'wohnung hat', 'wohnung ist', 'wohnung mit', 'wohnung nahe', 'wohnung perfekt', 'wohnung sehr', 'wohnung verliebt', 'wohnung war', 'wohnzimmercouch', 'wohnzimmercouch blickt', 'wohung', 'wohung wir', 'wollte', 'wollte sie', 'woman', 'woman make', 'woman offer', 'wonderful', 'wonderful apartment', 'wonderful backyard', 'wonderful beverage', 'wonderful book', 'wonderful character', 'wonderful city', 'wonderful cosy', 'wonderful day', 'wonderful direction', 'wonderful dorte', 'wonderful easy', 'wonderful every', 'wonderful experience', 'wonderful generous', 'wonderful great', 'wonderful hidden', 'wonderful holiday', 'wonderful hospitality', 'wonderful host', 'wonderful hostess', 'wonderful house', 'wonderful interest', 'wonderful kåre', 'wonderful location', 'wonderful loving', 'wonderful meet', 'wonderful memorable', 'wonderful neighborhood', 'wonderful neighbourhood', 'wonderful night', 'wonderful oasis', 'wonderful opportunity', 'wonderful oslo', 'wonderful part', 'wonderful person', 'wonderful place', 'wonderful sit', 'wonderful size', 'wonderful stay', 'wonderful stock', 'wonderful stop', 'wonderful super', 'wonderful tak', 'wonderful thing', 'wonderful time', 'wonderful tired', 'wonderful typical', 'wonderful upon', 'wonderful view', 'wonderful week', 'wonderful welcome', 'wonderful whole', 'wonderful without', 'wonderfull', 'wonderfull cooky', 'wonderfull host', 'wonderfull house', 'wonderfull person', 'wonderfull stay', 'wonderfull stylish', 'wonderfull view', 'wonderfully', 'wonderfully central', 'wood', 'wood burner', 'wood everywhere', 'wood meditation', 'wood stay', 'wooden', 'wooden balkony', 'wooden door', 'wooden floor', 'wooden house', 'wooden norwegian', 'word', 'word holiday', 'work', 'work accommodate', 'work art', 'work brother', 'work budget', 'work clean', 'work correctly', 'work five', 'work flawlessly', 'work great', 'work life', 'work london', 'work meet', 'work minor', 'work ok', 'work oslo', 'work perfectly', 'work plenty', 'work responsive', 'work thanks', 'work u', 'work university', 'work well', 'working', 'working assignment', 'world', 'world championship', 'world friendly', 'world full', 'world meet', 'world place', 'world series', 'world travel', 'worldly', 'worldly engage', 'worm', 'worm welcoming', 'worry', 'worry get', 'worse', 'worse weather', 'worth', 'worth area', 'worth beautiful', 'worth climb', 'worth day', 'worth kåre', 'worth thank', 'worthy', 'worthy arrival', 'would', 'would able', 'would absolutely', 'would also', 'would ask', 'would book', 'would bring', 'would certainly', 'would close', 'would come', 'would consider', 'would crazy', 'would creaky', 'would def', 'would defenetly', 'would defenitely', 'would definately', 'would definitely', 'would definitively', 'would describe', 'would discover', 'would enjoy', 'would enter', 'would even', 'would expect', 'would get', 'would give', 'would go', 'would good', 'would great', 'would gross', 'would happily', 'would hesitate', 'would highly', 'would ideal', 'would impossible', 'would interesting', 'would lack', 'would like', 'would love', 'would manage', 'would need', 'would nice', 'would pick', 'would prefer', 'would private', 'would rcommend', 'would recommend', 'would say', 'would send', 'would spend', 'would stay', 'would strongly', 'would suggest', 'would sure', 'would surely', 'would tall', 'would totally', 'would try', 'would want', 'would wish', 'wouldnt', 'wouldnt stop', 'wow', 'wow amaze', 'wow best', 'wow kåre', 'wow wow', 'write', 'write apartment', 'write hesitate', 'write novel', 'write true', 'write write', 'write yet', 'wrong', 'wrong dorte', 'wrong place', 'wrong two', 'wunderbar', 'wunderbar ausgesuchter', 'wunderbaren', 'wunderbaren aufenthalt', 'wunderbaren eindrucken', 'wunderbarer', 'wunderbarer host', 'wunderful', 'wunderful warm', 'wunderschönen', 'wunderschönen tage', 'wunderschöner', 'wunderschöner aussicht', 'wundervolle', 'wundervolle hilfsbereite', 'wundervoller', 'wundervoller aufenthalt', 'wurden', 'wurden direkt', 'wurden mit', 'wählen', 'während', 'während meines', 'wären', 'wären paar', 'wärme', 'wärme übertrifft', 'wünschen', 'wünschen konnten', 'würde', 'würde sie', 'würde sofort', 'würden', 'würden auf', 'würden diese', 'würden empfehlen', 'würden sie', 'würden wieder', 'würden wiederkommen', 'x', 'xample', 'xample imagine', 'year', 'year ago', 'year fram', 'year hopefully', 'year hungary', 'year know', 'year old', 'year thanks', 'yearly', 'yearly visit', 'yes', 'yes forget', 'yes march', 'yes recommend', 'yes volition', 'yet', 'yet 5', 'yet another', 'yet close', 'yet comfortable', 'yet extremely', 'yet far', 'yet good', 'yet inside', 'yet locate', 'yet new', 'yet quiet', 'yet stay', 'yet street', 'yet walk', 'young', 'young son', 'yummy', 'yummy food', 'z', 'z bardzo', 'zauberhaft', 'zauberhaft angerichtete', 'zauberhaften', 'zauberhaften haus', 'zeer', 'zeer flexibel', 'zeer netjes', 'zehr', 'zehr zentral', 'zeigen', 'zeigen haben', 'zeigen super', 'zeit', 'zeit keine', 'zeit mir', 'zentral', 'zentral gelegen', 'zentrale', 'zentrale lage', 'zentrum', 'zentrum oslo', 'zentrum und', 'zentrum wenigen', 'zentrum wir', 'zijn', 'zijn gezien', 'zijn kat', 'zijn op', 'zimmer', 'zimmer aufzuhalten', 'zimmer ist', 'zimmer mit', 'zimmer war', 'zo', 'zo aangenaam', 'zo periode', 'zonder', 'zonder lift', 'zone', 'zone apartment', 'zowel', 'zowel ruimte', 'zu', 'zu beginn', 'zu besten', 'zu dritt', 'zu empfehlen', 'zu erkunden', 'zu erledigen', 'zu erreichen', 'zu fuß', 'zu fühlen', 'zu führen', 'zu gestalt', 'zu hause', 'zu ihren', 'zu katrine', 'zu kochen', 'zu nächtigen', 'zu raffinierten', 'zu sehen', 'zu uben', 'zu unterhalten', 'zu verfügung', 'zu verschiedensten', 'zu viert', 'zu zeigen', 'zudem', 'zudem liegt', 'zugang', 'zugang zum', 'zuhause', 'zuhause zu', 'zum', 'zum abschied', 'zum centrum', 'zum holmenkolmen', 'zum relaxen', 'zum teetrinken', 'zum ufer', 'zur', 'zur begrüßung', 'zur verfügung', 'zurechtgekommen', 'zurechtgekommen sie', 'zuvorkommende', 'zuvorkommende person', 'zuvorkommende und', 'zuvorkommender', 'zuvorkommender gastgeber', 'zwar', 'zwar klein', 'zweckmäßige', 'zweckmäßige unterkunft', 'zwei', 'zwei tage', 'zwischen', 'zwischen denen', 'zwischen idyllischen', '¡', '¡ hemos', '°', '° bus', '° étage', '°,', '°, save', '´', '´ friend', '´ get', '´ home', '´ house', '´ manage', '´ problem', '´ see', 'àvec', 'àvec 2', 'är', 'är oslo', 'åkte', 'åkte riktigt', 'åpne', 'åpne stuen', 'ça', 'ça fuit', 'è', 'è vicino', 'ébouillanter', 'ébouillanter grille', 'échanger', 'échanger spontanément', 'échanges', 'échanges précise', 'équipements', 'équipements offerts', 'équipé', 'équipé agréable', 'équipé point', 'équipée', 'équipée télévision', 'étage', 'étage maison', 'étage sans', 'étages', 'étages montent', 'étages sans', 'öffentlichen', 'öffentlichen verkehr', 'über', 'über da', 'über die', 'über norwegen', 'über oslo', 'über sein', 'überaus', 'überaus freundlicher', 'übernachten', 'übernachten umso', 'übernachten –', 'übertrifft', 'übertrifft aber', 'überzeugend', 'überzeugend ist', 'świetny', 'świetny gospodarz', 'альбомы', 'альбомы по', 'атмосфера', 'атмосфера thanks', 'балконе', 'балконе можно', 'в', 'в 5', 'в спальне', 'в спокойном', 'в центре', 'вид', 'вид из', 'висят', 'висят постеры', 'внизу', 'внизу продуктовый', 'вопросами', 'вопросами очень', 'все', 'все для', 'все идеально', 'все объясняет', 'гостеприимная', 'гостеприимная все', 'гостеприимной', 'гостеприимной хозяйки', 'гриль', 'гриль на', 'делать', 'делать гриль', 'для', 'для 8', 'для приготовления', 'доброжелательная', 'доброжелательная атмосфера', 'дома', 'дома очень', 'дома хозяйка', 'есть', 'есть все', 'еще', 'еще один', 'за', 'за такую', 'завтрака', 'завтрака креативный', 'зеленом', 'зеленом районе', 'и', 'и гостеприимная', 'и еще', 'и зеленом', 'идеально', 'идеально переночевали', 'из', 'из окна', 'или', 'или завтрака', 'как', 'как дома', 'квартира', 'квартира в', 'квартира расположена', 'квартиры', 'квартиры на', 'красивый', 'красивый вид', 'креативный', 'креативный хозяин', 'кухне', 'кухне есть', 'любыми', 'любыми вопросами', 'магазин', 'магазин и', 'милая', 'милая и', 'минутах', 'минутах от', 'можно', 'можно делать', 'на', 'на балконе', 'на кухне', 'на стенах', 'неделю', 'неделю у', 'немного', 'немного тесно', 'но', 'но за', 'объясняет', 'объясняет чувствовали', 'один', 'один в', 'окна', 'окна на', 'осло', 'осло все', 'осло красивый', 'от', 'от дома', 'от центра', 'очень', 'очень доброжелательная', 'очень милая', 'очень удачно', 'очень уютно', 'переночевали', 'переночевали как', 'по', 'по типографике', 'помогает', 'помогает с', 'постеры', 'постеры с', 'прекрасная', 'прекрасная квартира', 'приготовления', 'приготовления ужина', 'провели', 'провели чудесную', 'продуктовый', 'продуктовый магазин', 'райдун', 'райдун провели', 'районе', 'районе осло', 'расположена', 'расположена очень', 'рекомендую', 'рекомендую с', 'роботами', 'роботами в', 'рядом', 'рядом от', 'с', 'с любыми', 'с роботами', 'с чистым', 'себя', 'себя как', 'сердцем', 'спальне', 'спальне альбомы', 'спасибо', 'спасибо райдун', 'спокойном', 'спокойном и', 'стенах', 'стенах висят', 'такую', 'такую цену', 'тесно', 'тесно для', 'типографике', 'типографике помогает', 'у', 'у гостеприимной', 'удачно', 'удачно рядом', 'ужина', 'ужина или', 'уютно', 'уютно рекомендую', 'хозяин', 'хозяин квартиры', 'хозяйка', 'хозяйка очень', 'хозяйки', 'хозяйки квартира', 'центра', 'центра внизу', 'центре', 'центре осло', 'цену', 'цену в', 'человек', 'человек но', 'чистым', 'чистым сердцем', 'чувствовали', 'чувствовали себя', 'чудесную', 'чудесную неделю', '–', '– danke', '– extrabonus', '– mandatory', '– need', '—', '— happy', '’', '’ agréable', '’ aise', '’ also', '’ always', '’ apartment', '’ appartement', '’ arrêt', '’ aware', '’ aéroport', '’ back', '’ beautiful', '’ bedroom', '’ bit', '’ central', '’ come', '’ day', '’ definitely', '’ easy', '’ espace', '’ ever', '’ exprime', '’ fine', '’ first', '’ flat', '’ get', '’ gonna', '’ great', '’ guest', '’ history', '’ home', '’ house', '’ kitchen', '’ last', '’ miss', '’ oslo', '’ place', '’ pretty', '’ really', '’ recommend', '’ remember', '’ rien', '’ space', '’ stand', '’ stylish', '’ super', '’ tall', '’ wait', '’ within', '“', '“ home', '”', '” oslo', '…', '… beauty', '… good', '… offering', '☺', '三個獨立臥房', '三個獨立臥房 睡覺可互相不受干擾', '且交通便捷', '且交通便捷 附近有公車及地鐵站', '从巴士总站走10分钟左右', '从巴士总站走10分钟左右 离地铁站也挺近', '会发送很详细的路线图', '会发送很详细的路线图 ｡', '位置很方便', '位置很方便 房东人很好', '充满艺术感和挪威森林气息', '充满艺术感和挪威森林气息 ｡', '厨房器具很全', '厨房器具很全 自己做吃的也很方便', '哎呀好幸运', '哎呀好幸运 ｡', '因為他有事要出門', '因為他有事要出門 還特地來車站送鑰匙', '她的家很温馨', '她的家很温馨 充满艺术感和挪威森林气息', '如果买了24小时卡的话到各个景点非常方便', '如果买了24小时卡的话到各个景点非常方便 推荐', '家裡還有隻可愛小貓咪喔', '對於背包客或輕裝旅行者很方便', '床很舒服', '床很舒服 阁楼的小床也很不错', '我们开了两台车来', '我们开了两台车来 还帮我们找了一个免费停车位', '房东人很好', '房东人很好 我们开了两台车来', '房主很热情', '房主很热情 会发送很详细的路线图', '房東人超級好的', '房東人超級好的 留了個可愛的鬍子', '房间暖气很热', '房间暖气很热 水也很热', '挺棒的房子', '挺棒的房子 从巴士总站走10分钟左右', '推荐', '教我們怎麼到他家', '教我們怎麼到他家 家裡還有隻可愛小貓咪喔', '有洗衣機與廚房用品', '有洗衣機與廚房用品 且交通便捷', '水也很热', '水也很热 洗漱也比较方便', '没想到会住在一个挪威导演的家里', '没想到会住在一个挪威导演的家里 哎呀好幸运', '洗漱也比较方便', '洗漱也比较方便 ｡', '留了個可愛的鬍子', '留了個可愛的鬍子 因為他有事要出門', '睡覺可互相不受干擾', '睡覺可互相不受干擾 有洗衣機與廚房用品', '离地铁站也挺近', '离地铁站也挺近 ｡', '自己做吃的也很方便', '自己做吃的也很方便 ｡', '谢谢', '还帮我们找了一个免费停车位', '还帮我们找了一个免费停车位 ｡', '還特地來車站送鑰匙', '還特地來車站送鑰匙 教我們怎麼到他家', '阁楼的小床也很不错', '阁楼的小床也很不错 ｡', '附近有公車及地鐵站', '附近有公車及地鐵站 對於背包客或輕裝旅行者很方便', '｡', '｡ ps房东还有两只很害羞的猫', '｡ 厨房器具很全', '｡ 她的家很温馨', '｡ 如果买了24小时卡的话到各个景点非常方便', '｡ 床很舒服', '｡ 房间暖气很热']\n"
     ]
    }
   ],
   "source": [
    "from sklearn.feature_extraction.text import TfidfVectorizer\n",
    "\n",
    "# tf idf vectoriser\n",
    "tfidf_vec = TfidfVectorizer(tokenizer=cab_tokenizer, ngram_range=(1,2))\n",
    "X = tfidf_vec.fit_transform(df_temp['comments'])\n",
    "\n",
    "# see the number of unique tokens produced by the vectorizer. Lots of them...\n",
    "print(tfidf_vec.get_feature_names())"
   ]
  },
  {
   "cell_type": "code",
   "execution_count": 26,
   "metadata": {},
   "outputs": [],
   "source": [
    "from sklearn.cluster import KMeans\n",
    "\n",
    "rs = 42\n",
    "# K means clustering using the term vector\n",
    "kmeans = KMeans(n_clusters=7, random_state=rs).fit(X)"
   ]
  },
  {
   "cell_type": "code",
   "execution_count": 25,
   "metadata": {},
   "outputs": [
    {
     "output_type": "stream",
     "name": "stdout",
     "text": [
      "Top terms for cluster 0: view dining, leave thank, \nTop terms for cluster 1: apartement situate, norway highly, \nTop terms for cluster 2: great visit, place flat, \nTop terms for cluster 3: card room, rund, \nTop terms for cluster 4: und die, water could, \nTop terms for cluster 5: useful stay, go jogging, \nTop terms for cluster 6: gracious, apartement situate, \n"
     ]
    }
   ],
   "source": [
    "# function to visualise text cluster. Useful for the assignment too :)\n",
    "def visualise_text_cluster(n_clusters, cluster_centers, terms, num_word = 5):\n",
    "    # -- Params --\n",
    "    # cluster_centers: cluster centers of fitted/trained KMeans/other centroid-based clustering\n",
    "    # terms: terms used for clustering\n",
    "    # num_word: number of terms to show per cluster. Change as you please.\n",
    "    \n",
    "    # find features/terms closest to centroids\n",
    "    ordered_centroids = cluster_centers.argsort()[:, ::-1]\n",
    "    \n",
    "    for cluster in range(n_clusters):\n",
    "        print(\"Top terms for cluster {}:\".format(cluster), end=\" \")\n",
    "        for term_idx in ordered_centroids[cluster, :5]:\n",
    "            print(terms[term_idx], end=', ')\n",
    "        print()\n",
    "        \n",
    "# call it\n",
    "visualise_text_cluster(kmeans.n_clusters, kmeans.cluster_centers_, tfidf_vec.get_feature_names())"
   ]
  },
  {
   "cell_type": "code",
   "execution_count": 35,
   "metadata": {},
   "outputs": [],
   "source": [
    "from sklearn.feature_extraction.text import TfidfVectorizer,CountVectorizer\n",
    "countvectorizer = CountVectorizer(analyzer= 'word', stop_words='english')\n",
    "tfidfvectorizer = TfidfVectorizer(analyzer='word',stop_words= 'english')\n",
    "\n",
    "count_wm = countvectorizer.fit_transform(df_temp['comments'])"
   ]
  }
 ]
}