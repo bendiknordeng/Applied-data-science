{
 "metadata": {
  "language_info": {
   "codemirror_mode": {
    "name": "ipython",
    "version": 3
   },
   "file_extension": ".py",
   "mimetype": "text/x-python",
   "name": "python",
   "nbconvert_exporter": "python",
   "pygments_lexer": "ipython3",
   "version": "3.7.7-final"
  },
  "orig_nbformat": 2,
  "kernelspec": {
   "name": "python_defaultSpec_1599757422147",
   "display_name": "Python 3.7.7 64-bit ('base': conda)"
  }
 },
 "nbformat": 4,
 "nbformat_minor": 2,
 "cells": [
  {
   "cell_type": "code",
   "execution_count": 80,
   "metadata": {
    "tags": []
   },
   "outputs": [
    {
     "output_type": "stream",
     "name": "stdout",
     "text": "<class 'pandas.core.frame.DataFrame'>\nRangeIndex: 8795 entries, 0 to 8794\nData columns (total 74 columns):\n #   Column                                        Non-Null Count  Dtype  \n---  ------                                        --------------  -----  \n 0   id                                            8795 non-null   int64  \n 1   listing_url                                   8795 non-null   object \n 2   scrape_id                                     8795 non-null   int64  \n 3   last_scraped                                  8795 non-null   object \n 4   name                                          8777 non-null   object \n 5   description                                   8541 non-null   object \n 6   neighborhood_overview                         4966 non-null   object \n 7   picture_url                                   8795 non-null   object \n 8   host_id                                       8795 non-null   int64  \n 9   host_url                                      8795 non-null   object \n 10  host_name                                     8794 non-null   object \n 11  host_since                                    8794 non-null   object \n 12  host_location                                 8766 non-null   object \n 13  host_about                                    4287 non-null   object \n 14  host_response_time                            3269 non-null   object \n 15  host_response_rate                            3269 non-null   object \n 16  host_acceptance_rate                          4758 non-null   object \n 17  host_is_superhost                             8794 non-null   object \n 18  host_thumbnail_url                            8794 non-null   object \n 19  host_picture_url                              8794 non-null   object \n 20  host_neighbourhood                            5701 non-null   object \n 21  host_listings_count                           8794 non-null   float64\n 22  host_total_listings_count                     8794 non-null   float64\n 23  host_verifications                            8795 non-null   object \n 24  host_has_profile_pic                          8794 non-null   object \n 25  host_identity_verified                        8794 non-null   object \n 26  neighbourhood                                 8506 non-null   object \n 27  neighbourhood_cleansed                        8795 non-null   object \n 28  neighbourhood_group_cleansed                  0 non-null      float64\n 29  latitude                                      8795 non-null   float64\n 30  longitude                                     8795 non-null   float64\n 31  property_type                                 8795 non-null   object \n 32  room_type                                     8795 non-null   object \n 33  accommodates                                  8795 non-null   int64  \n 34  bathrooms                                     8791 non-null   float64\n 35  bathrooms_text                                0 non-null      float64\n 36  bedrooms                                      8787 non-null   float64\n 37  beds                                          8744 non-null   float64\n 38  amenities                                     8795 non-null   object \n 39  price                                         8795 non-null   object \n 40  minimum_nights                                8795 non-null   int64  \n 41  maximum_nights                                8795 non-null   int64  \n 42  minimum_minimum_nights                        8795 non-null   int64  \n 43  maximum_minimum_nights                        8795 non-null   int64  \n 44  minimum_maximum_nights                        8795 non-null   int64  \n 45  maximum_maximum_nights                        8795 non-null   int64  \n 46  minimum_nights_avg_ntm                        8795 non-null   float64\n 47  maximum_nights_avg_ntm                        8795 non-null   float64\n 48  calendar_updated                              8795 non-null   object \n 49  has_availability                              8795 non-null   object \n 50  availability_30                               8795 non-null   int64  \n 51  availability_60                               8795 non-null   int64  \n 52  availability_90                               8795 non-null   int64  \n 53  availability_365                              8795 non-null   int64  \n 54  calendar_last_scraped                         8795 non-null   object \n 55  number_of_reviews                             8795 non-null   int64  \n 56  number_of_reviews_ltm                         8795 non-null   int64  \n 57  number_of_reviews_l30d                        0 non-null      float64\n 58  first_review                                  6754 non-null   object \n 59  last_review                                   6754 non-null   object \n 60  review_scores_rating                          6574 non-null   float64\n 61  review_scores_accuracy                        6567 non-null   float64\n 62  review_scores_cleanliness                     6570 non-null   float64\n 63  review_scores_checkin                         6557 non-null   float64\n 64  review_scores_communication                   6565 non-null   float64\n 65  review_scores_location                        6555 non-null   float64\n 66  review_scores_value                           6554 non-null   float64\n 67  license                                       0 non-null      float64\n 68  instant_bookable                              8795 non-null   object \n 69  calculated_host_listings_count                8795 non-null   int64  \n 70  calculated_host_listings_count_entire_homes   8795 non-null   int64  \n 71  calculated_host_listings_count_private_rooms  8795 non-null   int64  \n 72  calculated_host_listings_count_shared_rooms   8795 non-null   int64  \n 73  reviews_per_month                             6754 non-null   float64\ndtypes: float64(21), int64(20), object(33)\nmemory usage: 5.0+ MB\n"
    }
   ],
   "source": [
    "import pandas as pd\n",
    "df = pd.read_csv('data/listings_detailed.csv')\n",
    "df.info()"
   ]
  },
  {
   "cell_type": "code",
   "execution_count": 81,
   "metadata": {},
   "outputs": [],
   "source": [
    "# Drop unnecessary columns\n",
    "redundant_cols = ['id', 'name', 'description', 'listing_url', 'scrape_id', 'last_scraped', 'neighborhood_overview', 'picture_url', 'host_id', 'host_url', 'host_name', 'host_location','host_about', 'host_response_time', 'host_thumbnail_url', 'host_picture_url', 'host_total_listings_count', 'neighbourhood', 'neighbourhood_group_cleansed', 'minimum_minimum_nights', 'maximum_minimum_nights', 'minimum_maximum_nights', 'maximum_maximum_nights', 'minimum_nights_avg_ntm', 'maximum_nights_avg_ntm', 'has_availability', 'number_of_reviews_l30d', 'license', 'bathrooms_text']\n",
    "df.drop(columns=redundant_cols, inplace=True)\n",
    "\n",
    "# Convert date columns to datetime\n",
    "df.host_since = pd.to_datetime(df.host_since, format='%Y-%m-%d')\n",
    "df.calendar_last_scraped = pd.to_datetime(df.calendar_last_scraped, format='%Y-%m-%d')\n",
    "df.first_review = pd.to_datetime(df.first_review, format='%Y-%m-%d')\n",
    "df.last_review = pd.to_datetime(df.last_review, format='%Y-%m-%d')\n",
    "\n",
    "# Convert 't' to 1 and 'f' to 0\n",
    "df.host_is_superhost = df.host_is_superhost.apply(lambda x: 1 if x=='t' else 0)\n",
    "df.host_has_profile_pic = df.host_has_profile_pic.apply(lambda x: 1 if x=='t' else 0)\n",
    "df.host_identity_verified = df.host_identity_verified.apply(lambda x: 1 if x=='t' else 0)\n",
    "df.instant_bookable = df.instant_bookable.apply(lambda x: 1 if x=='t' else 0)\n",
    "\n",
    "# Change amenities to total count of amenities\n",
    "df.amenities_count = df.amenities.str[1:-1].apply(lambda x: len(x.split(',')))\n",
    "df.drop('amenities', axis=1, inplace=True)\n",
    "\n",
    "# Change verifications to total count of verifications\n",
    "df.host_verifications_count = df.host_verifications.str[1:-1].apply(lambda x: len(x.split(',')))\n",
    "df.drop('host_verifications', axis=1, inplace=True)\n",
    "\n",
    "# Convert price to int (kr)\n",
    "df['price'] = df['price'].str[1:]  # remove $-sign\n",
    "df['price'] = df['price'].str.replace(',', '').astype(float)  # remove commas\n",
    "\n",
    "# Add binary column for missing response rate and set missing values to 0\n",
    "df.response_rate_missing = df.host_response_rate.notnull().astype(int)\n",
    "df.host_response_rate.fillna(0, inplace=True)\n",
    "\n",
    "# Add binary column for missing acceptance rate and set missing values to 0\n",
    "df.acceptance_rate_missing = df.host_acceptance_rate.notnull().astype(int)\n",
    "df.host_acceptance_rate.fillna(0, inplace=True)\n",
    "\n",
    "# Set missing values for reviews to mean\n",
    "df.review_scores_rating.fillna(df.review_scores_rating.mean(), inplace=True)\n",
    "df.review_scores_accuracy.fillna(df.review_scores_accuracy.mean(), inplace=True)\n",
    "df.review_scores_cleanliness.fillna(df.review_scores_cleanliness.mean(), inplace=True)\n",
    "df.review_scores_checkin.fillna(df.review_scores_checkin.mean(), inplace=True)\n",
    "df.review_scores_communication.fillna(df.review_scores_communication.mean(), inplace=True)\n",
    "df.review_scores_location.fillna(df.review_scores_location.mean(), inplace=True)\n",
    "df.review_scores_value.fillna(df.review_scores_value.mean(), inplace=True)\n",
    "\n",
    "# Set missing values for reviews per month to 0 (never gotten reviews)\n",
    "df.reviews_per_month.fillna(0, inplace=True)\n",
    "\n",
    "# Fill missing roomspecifications with mean\n",
    "df.bathrooms.fillna(df.bathrooms.mean(), inplace=True)\n",
    "df.bedrooms.fillna(df.bedrooms.mean(), inplace=True)\n",
    "df.beds.fillna(df.beds.mean(), inplace=True)"
   ]
  },
  {
   "cell_type": "code",
   "execution_count": 82,
   "metadata": {
    "tags": []
   },
   "outputs": [
    {
     "output_type": "stream",
     "name": "stdout",
     "text": "<class 'pandas.core.frame.DataFrame'>\nRangeIndex: 8795 entries, 0 to 8794\nData columns (total 43 columns):\n #   Column                                        Non-Null Count  Dtype         \n---  ------                                        --------------  -----         \n 0   host_since                                    8794 non-null   datetime64[ns]\n 1   host_response_rate                            8795 non-null   object        \n 2   host_acceptance_rate                          8795 non-null   object        \n 3   host_is_superhost                             8795 non-null   int64         \n 4   host_neighbourhood                            5701 non-null   object        \n 5   host_listings_count                           8794 non-null   float64       \n 6   host_has_profile_pic                          8795 non-null   int64         \n 7   host_identity_verified                        8795 non-null   int64         \n 8   neighbourhood_cleansed                        8795 non-null   object        \n 9   latitude                                      8795 non-null   float64       \n 10  longitude                                     8795 non-null   float64       \n 11  property_type                                 8795 non-null   object        \n 12  room_type                                     8795 non-null   object        \n 13  accommodates                                  8795 non-null   int64         \n 14  bathrooms                                     8795 non-null   float64       \n 15  bedrooms                                      8795 non-null   float64       \n 16  beds                                          8795 non-null   float64       \n 17  price                                         8795 non-null   float64       \n 18  minimum_nights                                8795 non-null   int64         \n 19  maximum_nights                                8795 non-null   int64         \n 20  calendar_updated                              8795 non-null   object        \n 21  availability_30                               8795 non-null   int64         \n 22  availability_60                               8795 non-null   int64         \n 23  availability_90                               8795 non-null   int64         \n 24  availability_365                              8795 non-null   int64         \n 25  calendar_last_scraped                         8795 non-null   datetime64[ns]\n 26  number_of_reviews                             8795 non-null   int64         \n 27  number_of_reviews_ltm                         8795 non-null   int64         \n 28  first_review                                  6754 non-null   datetime64[ns]\n 29  last_review                                   6754 non-null   datetime64[ns]\n 30  review_scores_rating                          8795 non-null   float64       \n 31  review_scores_accuracy                        8795 non-null   float64       \n 32  review_scores_cleanliness                     8795 non-null   float64       \n 33  review_scores_checkin                         8795 non-null   float64       \n 34  review_scores_communication                   8795 non-null   float64       \n 35  review_scores_location                        8795 non-null   float64       \n 36  review_scores_value                           8795 non-null   float64       \n 37  instant_bookable                              8795 non-null   int64         \n 38  calculated_host_listings_count                8795 non-null   int64         \n 39  calculated_host_listings_count_entire_homes   8795 non-null   int64         \n 40  calculated_host_listings_count_private_rooms  8795 non-null   int64         \n 41  calculated_host_listings_count_shared_rooms   8795 non-null   int64         \n 42  reviews_per_month                             8795 non-null   float64       \ndtypes: datetime64[ns](4), float64(15), int64(17), object(7)\nmemory usage: 2.9+ MB\n"
    }
   ],
   "source": [
    "df.info()"
   ]
  }
 ]
}