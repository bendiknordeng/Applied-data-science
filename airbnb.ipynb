{
 "metadata": {
  "language_info": {
   "codemirror_mode": {
    "name": "ipython",
    "version": 3
   },
   "file_extension": ".py",
   "mimetype": "text/x-python",
   "name": "python",
   "nbconvert_exporter": "python",
   "pygments_lexer": "ipython3",
   "version": "3.7.7-final"
  },
  "orig_nbformat": 2,
  "kernelspec": {
   "name": "python_defaultSpec_1599757422147",
   "display_name": "Python 3.7.7 64-bit ('base': conda)"
  }
 },
 "nbformat": 4,
 "nbformat_minor": 2,
 "cells": [
  {
   "cell_type": "code",
   "execution_count": 146,
   "metadata": {
    "tags": []
   },
   "outputs": [
    {
     "output_type": "error",
     "ename": "NameError",
     "evalue": "name 'tools' is not defined",
     "traceback": [
      "\u001b[0;31m---------------------------------------------------------------------------\u001b[0m",
      "\u001b[0;31mNameError\u001b[0m                                 Traceback (most recent call last)",
      "\u001b[0;32m<ipython-input-146-1fb3d088f413>\u001b[0m in \u001b[0;36m<module>\u001b[0;34m\u001b[0m\n\u001b[1;32m      2\u001b[0m \u001b[0;32mfrom\u001b[0m \u001b[0mtools\u001b[0m \u001b[0;32mimport\u001b[0m \u001b[0mload_data\u001b[0m\u001b[0;34m\u001b[0m\u001b[0;34m\u001b[0m\u001b[0m\n\u001b[1;32m      3\u001b[0m \u001b[0;31m#pd.set_option(\"display.max_rows\", None, \"display.max_columns\", None)\u001b[0m\u001b[0;34m\u001b[0m\u001b[0;34m\u001b[0m\u001b[0;34m\u001b[0m\u001b[0m\n\u001b[0;32m----> 4\u001b[0;31m \u001b[0mdf\u001b[0m \u001b[0;34m=\u001b[0m \u001b[0mtools\u001b[0m\u001b[0;34m.\u001b[0m\u001b[0mload_data\u001b[0m\u001b[0;34m(\u001b[0m\u001b[0;34m)\u001b[0m\u001b[0;34m\u001b[0m\u001b[0;34m\u001b[0m\u001b[0m\n\u001b[0m",
      "\u001b[0;31mNameError\u001b[0m: name 'tools' is not defined"
     ]
    }
   ],
   "source": [
    "import pandas as pd\n",
    "from tools import load_data\n",
    "#pd.set_option(\"display.max_rows\", None, \"display.max_columns\", None)\n",
    "df = tools.load_data()"
   ]
  },
  {
   "cell_type": "code",
   "execution_count": 143,
   "metadata": {
    "tags": []
   },
   "outputs": [
    {
     "output_type": "stream",
     "name": "stdout",
     "text": "<class 'pandas.core.frame.DataFrame'>\nInt64Index: 8794 entries, 0 to 8794\nData columns (total 40 columns):\n #   Column                                        Non-Null Count  Dtype         \n---  ------                                        --------------  -----         \n 0   host_since                                    8794 non-null   datetime64[ns]\n 1   host_response_rate                            8794 non-null   float64       \n 2   host_acceptance_rate                          8794 non-null   float64       \n 3   host_is_superhost                             8794 non-null   int64         \n 4   host_listings_count                           8794 non-null   float64       \n 5   host_has_profile_pic                          8794 non-null   int64         \n 6   host_identity_verified                        8794 non-null   int64         \n 7   neighbourhood_cleansed                        8794 non-null   object        \n 8   latitude                                      8794 non-null   float64       \n 9   longitude                                     8794 non-null   float64       \n 10  property_type                                 8794 non-null   object        \n 11  room_type                                     8794 non-null   object        \n 12  accommodates                                  8794 non-null   int64         \n 13  bathrooms                                     8794 non-null   float64       \n 14  bedrooms                                      8794 non-null   float64       \n 15  beds                                          8794 non-null   float64       \n 16  price                                         8794 non-null   float64       \n 17  minimum_nights                                8794 non-null   int64         \n 18  maximum_nights                                8794 non-null   int64         \n 19  calendar_updated                              8794 non-null   object        \n 20  availability_30                               8794 non-null   int64         \n 21  availability_60                               8794 non-null   int64         \n 22  availability_90                               8794 non-null   int64         \n 23  availability_365                              8794 non-null   int64         \n 24  calendar_last_scraped                         8794 non-null   datetime64[ns]\n 25  number_of_reviews                             8794 non-null   int64         \n 26  number_of_reviews_ltm                         8794 non-null   int64         \n 27  review_scores_rating                          8794 non-null   float64       \n 28  review_scores_accuracy                        8794 non-null   float64       \n 29  review_scores_cleanliness                     8794 non-null   float64       \n 30  review_scores_checkin                         8794 non-null   float64       \n 31  review_scores_communication                   8794 non-null   float64       \n 32  review_scores_location                        8794 non-null   float64       \n 33  review_scores_value                           8794 non-null   float64       \n 34  instant_bookable                              8794 non-null   int64         \n 35  calculated_host_listings_count                8794 non-null   int64         \n 36  calculated_host_listings_count_entire_homes   8794 non-null   int64         \n 37  calculated_host_listings_count_private_rooms  8794 non-null   int64         \n 38  calculated_host_listings_count_shared_rooms   8794 non-null   int64         \n 39  reviews_per_month                             8794 non-null   float64       \ndtypes: datetime64[ns](2), float64(17), int64(17), object(4)\nmemory usage: 2.8+ MB\n"
    }
   ],
   "source": [
    "df.info()"
   ]
  }
 ]
}